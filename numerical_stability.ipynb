{
  "nbformat": 4,
  "nbformat_minor": 0,
  "metadata": {
    "colab": {
      "name": "numerical_stability.ipynb",
      "provenance": [],
      "collapsed_sections": [],
      "include_colab_link": true
    },
    "kernelspec": {
      "name": "python3",
      "display_name": "Python 3"
    }
  },
  "cells": [
    {
      "cell_type": "markdown",
      "metadata": {
        "id": "view-in-github",
        "colab_type": "text"
      },
      "source": [
        "<a href=\"https://colab.research.google.com/github/dlsun/Data301Winter2019/blob/master/numerical_stability.ipynb\" target=\"_parent\"><img src=\"https://colab.research.google.com/assets/colab-badge.svg\" alt=\"Open In Colab\"/></a>"
      ]
    },
    {
      "cell_type": "code",
      "metadata": {
        "colab": {
          "base_uri": "https://localhost:8080/"
        },
        "id": "Umh5-mEuGgrv",
        "outputId": "abaa75e5-17e7-44f2-e6d2-b45c9f0f9177"
      },
      "source": [
        "!git clone https://github.com/ajboyd2/salmon.git"
      ],
      "execution_count": 1,
      "outputs": [
        {
          "output_type": "stream",
          "name": "stdout",
          "text": [
            "fatal: destination path 'salmon' already exists and is not an empty directory.\n"
          ]
        }
      ]
    },
    {
      "cell_type": "code",
      "metadata": {
        "colab": {
          "base_uri": "https://localhost:8080/"
        },
        "id": "EICZY0WRrp8X",
        "outputId": "1ce7f56b-d424-413f-8893-6242c44490f2"
      },
      "source": [
        "!python setup.py build\n",
        "!python setup.py install"
      ],
      "execution_count": 2,
      "outputs": [
        {
          "output_type": "stream",
          "name": "stdout",
          "text": [
            "python3: can't open file 'setup.py': [Errno 2] No such file or directory\n",
            "python3: can't open file 'setup.py': [Errno 2] No such file or directory\n"
          ]
        }
      ]
    },
    {
      "cell_type": "code",
      "metadata": {
        "colab": {
          "base_uri": "https://localhost:8080/"
        },
        "id": "HYQmi7eElPLT",
        "outputId": "35e69be9-bdc4-4d99-f7f5-cdc0ddf4302a"
      },
      "source": [
        "!pip install rpy2 \n",
        "%load_ext rpy2.ipython"
      ],
      "execution_count": 3,
      "outputs": [
        {
          "output_type": "stream",
          "name": "stdout",
          "text": [
            "Requirement already satisfied: rpy2 in /usr/local/lib/python3.7/dist-packages (3.4.5)\n",
            "Requirement already satisfied: pytz in /usr/local/lib/python3.7/dist-packages (from rpy2) (2018.9)\n",
            "Requirement already satisfied: jinja2 in /usr/local/lib/python3.7/dist-packages (from rpy2) (2.11.3)\n",
            "Requirement already satisfied: cffi>=1.10.0 in /usr/local/lib/python3.7/dist-packages (from rpy2) (1.14.6)\n",
            "Requirement already satisfied: tzlocal in /usr/local/lib/python3.7/dist-packages (from rpy2) (1.5.1)\n",
            "Requirement already satisfied: pycparser in /usr/local/lib/python3.7/dist-packages (from cffi>=1.10.0->rpy2) (2.20)\n",
            "Requirement already satisfied: MarkupSafe>=0.23 in /usr/local/lib/python3.7/dist-packages (from jinja2->rpy2) (2.0.1)\n"
          ]
        }
      ]
    },
    {
      "cell_type": "code",
      "metadata": {
        "id": "0sezSHIt3sTn",
        "colab": {
          "base_uri": "https://localhost:8080/"
        },
        "outputId": "2e6f3515-af8d-4218-c46c-7d955e32f09d"
      },
      "source": [
        "import numpy as np\n",
        "import pandas as pd\n",
        "from salmon import *\n",
        "import statsmodels.formula.api as smf"
      ],
      "execution_count": 4,
      "outputs": [
        {
          "output_type": "stream",
          "name": "stderr",
          "text": [
            "/usr/local/lib/python3.7/dist-packages/statsmodels/tools/_testing.py:19: FutureWarning: pandas.util.testing is deprecated. Use the functions in the public API at pandas.testing instead.\n",
            "  import pandas.util.testing as tm\n"
          ]
        }
      ]
    },
    {
      "cell_type": "markdown",
      "metadata": {
        "id": "0ayAV104BjCI"
      },
      "source": [
        "## Generate Data"
      ]
    },
    {
      "cell_type": "code",
      "metadata": {
        "id": "m1Q79wHx4I0v"
      },
      "source": [
        "np.random.seed(1)\n",
        "n = 1000\n",
        "x = np.linspace(start=1e8 - 1, stop=1e8 + 1, num=n)\n",
        "y = 2 + 2 * x + np.random.randn(n)\n",
        "df = pd.DataFrame({\n",
        "    \"x\": x,\n",
        "    \"y\": y\n",
        "})"
      ],
      "execution_count": 5,
      "outputs": []
    },
    {
      "cell_type": "markdown",
      "metadata": {
        "id": "YOPU8y8jBkh4"
      },
      "source": [
        "## Salmon"
      ]
    },
    {
      "cell_type": "code",
      "metadata": {
        "colab": {
          "base_uri": "https://localhost:8080/",
          "height": 112
        },
        "id": "mA75vRf1BYaI",
        "outputId": "ba1dbb36-a1b1-4d35-d205-2a4e21051996"
      },
      "source": [
        "model = LinearModel(Q(\"x\"), Q(\"y\"))\n",
        "model.fit(df)"
      ],
      "execution_count": 6,
      "outputs": [
        {
          "output_type": "execute_result",
          "data": {
            "text/html": [
              "<div>\n",
              "<style scoped>\n",
              "    .dataframe tbody tr th:only-of-type {\n",
              "        vertical-align: middle;\n",
              "    }\n",
              "\n",
              "    .dataframe tbody tr th {\n",
              "        vertical-align: top;\n",
              "    }\n",
              "\n",
              "    .dataframe thead th {\n",
              "        text-align: right;\n",
              "    }\n",
              "</style>\n",
              "<table border=\"1\" class=\"dataframe\">\n",
              "  <thead>\n",
              "    <tr style=\"text-align: right;\">\n",
              "      <th></th>\n",
              "      <th>Coefficient</th>\n",
              "      <th>SE</th>\n",
              "      <th>t</th>\n",
              "      <th>p</th>\n",
              "      <th>2.5%</th>\n",
              "      <th>97.5%</th>\n",
              "    </tr>\n",
              "  </thead>\n",
              "  <tbody>\n",
              "    <tr>\n",
              "      <th>x</th>\n",
              "      <td>1.970</td>\n",
              "      <td>0.0537</td>\n",
              "      <td>36.66</td>\n",
              "      <td>5e-187</td>\n",
              "      <td>1.864</td>\n",
              "      <td>2.075</td>\n",
              "    </tr>\n",
              "    <tr>\n",
              "      <th>Intercept</th>\n",
              "      <td>3.047e+6</td>\n",
              "      <td>5.372e+6</td>\n",
              "      <td>0.5671</td>\n",
              "      <td>0.5708</td>\n",
              "      <td>-7.496e+6</td>\n",
              "      <td>1.359e+7</td>\n",
              "    </tr>\n",
              "  </tbody>\n",
              "</table>\n",
              "</div>"
            ],
            "text/plain": [
              "           Coefficient       SE      t      p      2.5%    97.5%\n",
              "x                1.970   0.0537  36.66 5e-187     1.864    2.075\n",
              "Intercept     3.047e+6 5.372e+6 0.5671 0.5708 -7.496e+6 1.359e+7"
            ]
          },
          "metadata": {},
          "execution_count": 6
        }
      ]
    },
    {
      "cell_type": "markdown",
      "metadata": {
        "id": "cK8WNHR6Bn0I"
      },
      "source": [
        "## Statsmodels"
      ]
    },
    {
      "cell_type": "code",
      "metadata": {
        "colab": {
          "base_uri": "https://localhost:8080/",
          "height": 542
        },
        "id": "WIG9ZvygBiA4",
        "outputId": "04fb713b-2b79-4902-95c0-05b2d511c3ba"
      },
      "source": [
        "smf.ols(\"y ~ x\", df).fit().summary()"
      ],
      "execution_count": 7,
      "outputs": [
        {
          "output_type": "stream",
          "name": "stderr",
          "text": [
            "/usr/local/lib/python3.7/dist-packages/statsmodels/regression/linear_model.py:1657: RuntimeWarning: divide by zero encountered in double_scalars\n",
            "  return self.ess/self.df_model\n"
          ]
        },
        {
          "output_type": "execute_result",
          "data": {
            "text/html": [
              "<table class=\"simpletable\">\n",
              "<caption>OLS Regression Results</caption>\n",
              "<tr>\n",
              "  <th>Dep. Variable:</th>            <td>y</td>        <th>  R-squared:         </th> <td>   0.574</td>\n",
              "</tr>\n",
              "<tr>\n",
              "  <th>Model:</th>                   <td>OLS</td>       <th>  Adj. R-squared:    </th> <td>   0.574</td>\n",
              "</tr>\n",
              "<tr>\n",
              "  <th>Method:</th>             <td>Least Squares</td>  <th>  F-statistic:       </th> <td>     inf</td>\n",
              "</tr>\n",
              "<tr>\n",
              "  <th>Date:</th>             <td>Fri, 01 Oct 2021</td> <th>  Prob (F-statistic):</th>  <td>   nan</td> \n",
              "</tr>\n",
              "<tr>\n",
              "  <th>Time:</th>                 <td>23:03:02</td>     <th>  Log-Likelihood:    </th> <td> -1399.8</td>\n",
              "</tr>\n",
              "<tr>\n",
              "  <th>No. Observations:</th>      <td>  1000</td>      <th>  AIC:               </th> <td>   2802.</td>\n",
              "</tr>\n",
              "<tr>\n",
              "  <th>Df Residuals:</th>          <td>   999</td>      <th>  BIC:               </th> <td>   2806.</td>\n",
              "</tr>\n",
              "<tr>\n",
              "  <th>Df Model:</th>              <td>     0</td>      <th>                     </th>     <td> </td>   \n",
              "</tr>\n",
              "<tr>\n",
              "  <th>Covariance Type:</th>      <td>nonrobust</td>    <th>                     </th>     <td> </td>   \n",
              "</tr>\n",
              "</table>\n",
              "<table class=\"simpletable\">\n",
              "<tr>\n",
              "      <td></td>         <th>coef</th>     <th>std err</th>      <th>t</th>      <th>P>|t|</th>  <th>[0.025</th>    <th>0.975]</th>  \n",
              "</tr>\n",
              "<tr>\n",
              "  <th>Intercept</th> <td>     2e-08</td> <td>  3.1e-18</td> <td> 6.44e+09</td> <td> 0.000</td> <td>    2e-08</td> <td>    2e-08</td>\n",
              "</tr>\n",
              "<tr>\n",
              "  <th>x</th>         <td>    2.0000</td> <td>  3.1e-10</td> <td> 6.44e+09</td> <td> 0.000</td> <td>    2.000</td> <td>    2.000</td>\n",
              "</tr>\n",
              "</table>\n",
              "<table class=\"simpletable\">\n",
              "<tr>\n",
              "  <th>Omnibus:</th>       <td> 2.990</td> <th>  Durbin-Watson:     </th> <td>   2.056</td>\n",
              "</tr>\n",
              "<tr>\n",
              "  <th>Prob(Omnibus):</th> <td> 0.224</td> <th>  Jarque-Bera (JB):  </th> <td>   3.052</td>\n",
              "</tr>\n",
              "<tr>\n",
              "  <th>Skew:</th>          <td>-0.068</td> <th>  Prob(JB):          </th> <td>   0.217</td>\n",
              "</tr>\n",
              "<tr>\n",
              "  <th>Kurtosis:</th>      <td> 3.234</td> <th>  Cond. No.          </th> <td>1.73e+16</td>\n",
              "</tr>\n",
              "</table><br/><br/>Warnings:<br/>[1] Standard Errors assume that the covariance matrix of the errors is correctly specified.<br/>[2] The smallest eigenvalue is 3.34e-14. This might indicate that there are<br/>strong multicollinearity problems or that the design matrix is singular."
            ],
            "text/plain": [
              "<class 'statsmodels.iolib.summary.Summary'>\n",
              "\"\"\"\n",
              "                            OLS Regression Results                            \n",
              "==============================================================================\n",
              "Dep. Variable:                      y   R-squared:                       0.574\n",
              "Model:                            OLS   Adj. R-squared:                  0.574\n",
              "Method:                 Least Squares   F-statistic:                       inf\n",
              "Date:                Fri, 01 Oct 2021   Prob (F-statistic):                nan\n",
              "Time:                        23:03:02   Log-Likelihood:                -1399.8\n",
              "No. Observations:                1000   AIC:                             2802.\n",
              "Df Residuals:                     999   BIC:                             2806.\n",
              "Df Model:                           0                                         \n",
              "Covariance Type:            nonrobust                                         \n",
              "==============================================================================\n",
              "                 coef    std err          t      P>|t|      [0.025      0.975]\n",
              "------------------------------------------------------------------------------\n",
              "Intercept       2e-08    3.1e-18   6.44e+09      0.000       2e-08       2e-08\n",
              "x              2.0000    3.1e-10   6.44e+09      0.000       2.000       2.000\n",
              "==============================================================================\n",
              "Omnibus:                        2.990   Durbin-Watson:                   2.056\n",
              "Prob(Omnibus):                  0.224   Jarque-Bera (JB):                3.052\n",
              "Skew:                          -0.068   Prob(JB):                        0.217\n",
              "Kurtosis:                       3.234   Cond. No.                     1.73e+16\n",
              "==============================================================================\n",
              "\n",
              "Warnings:\n",
              "[1] Standard Errors assume that the covariance matrix of the errors is correctly specified.\n",
              "[2] The smallest eigenvalue is 3.34e-14. This might indicate that there are\n",
              "strong multicollinearity problems or that the design matrix is singular.\n",
              "\"\"\""
            ]
          },
          "metadata": {},
          "execution_count": 7
        }
      ]
    },
    {
      "cell_type": "markdown",
      "metadata": {
        "id": "k9opOvArB3hm"
      },
      "source": [
        "## R"
      ]
    },
    {
      "cell_type": "code",
      "metadata": {
        "colab": {
          "base_uri": "https://localhost:8080/"
        },
        "id": "DtzcZ840B6wG",
        "outputId": "55a87709-de6b-421d-f130-c65834e56cff"
      },
      "source": [
        "%%R -i df\n",
        "\n",
        "summary(lm(y ~ x, data=df))"
      ],
      "execution_count": 8,
      "outputs": [
        {
          "output_type": "stream",
          "name": "stdout",
          "text": [
            "\n",
            "Call:\n",
            "lm(formula = y ~ x, data = df)\n",
            "\n",
            "Residuals:\n",
            "    Min      1Q  Median      3Q     Max \n",
            "-4.3203 -1.1016  0.0141  1.1483  4.2132 \n",
            "\n",
            "Coefficients: (1 not defined because of singularities)\n",
            "             Estimate Std. Error   t value Pr(>|t|)    \n",
            "(Intercept) 2.000e+08  4.754e-02 4.207e+09   <2e-16 ***\n",
            "x                  NA         NA        NA       NA    \n",
            "---\n",
            "Signif. codes:  0 ‘***’ 0.001 ‘**’ 0.01 ‘*’ 0.05 ‘.’ 0.1 ‘ ’ 1\n",
            "\n",
            "Residual standard error: 1.503 on 999 degrees of freedom\n",
            "\n"
          ]
        }
      ]
    }
  ]
}